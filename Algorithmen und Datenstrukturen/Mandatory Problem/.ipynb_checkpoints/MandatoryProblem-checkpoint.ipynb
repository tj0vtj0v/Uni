{
 "cells": [
  {
   "cell_type": "markdown",
   "source": [
    "# Mandatory Problem: Investigation of three Pattern Matching Algorithms"
   ],
   "metadata": {
    "collapsed": false
   },
   "id": "3f54628fc63c59c4"
  },
  {
   "cell_type": "markdown",
   "source": [
    "Professor: Prof. Dr. Patrick Glauner"
   ],
   "metadata": {
    "collapsed": false
   },
   "id": "5fa3634f82028823"
  },
  {
   "cell_type": "markdown",
   "source": [
    "Participants:<br>\n",
    "   - 22211158 -> Noah Tjorven Burdorf\n",
    "   - xxxxxxxx -> Korbinian Zormeier\n",
    "   - xxxxxxxx -> Tobias Bosl\n",
    "   - xxxxxxxx -> Bastian Höschl\n",
    "   - xxxxxxxx -> Mathias Kirschner"
   ],
   "metadata": {
    "collapsed": false
   },
   "id": "53454117b3899cf9"
  },
  {
   "cell_type": "markdown",
   "source": [
    "## Introduction and Problem Description"
   ],
   "metadata": {
    "collapsed": false
   },
   "id": "de8634cddf96e15f"
  },
  {
   "cell_type": "markdown",
   "source": [
    "- TODO"
   ],
   "metadata": {
    "collapsed": false
   },
   "id": "155f087b3ecc5855"
  },
  {
   "cell_type": "markdown",
   "source": [
    "## Theory and description of the Algorithms"
   ],
   "metadata": {
    "collapsed": false
   },
   "id": "64684944f42e7e2d"
  },
  {
   "cell_type": "markdown",
   "source": [
    "- TODO"
   ],
   "metadata": {
    "collapsed": false
   },
   "id": "f63d7da0e34ca8a1"
  },
  {
   "cell_type": "markdown",
   "source": [
    "## Structure for the mandatory problem"
   ],
   "metadata": {
    "collapsed": false
   },
   "id": "8480442ccf0d560a"
  },
  {
   "cell_type": "markdown",
   "source": [
    "### Class structure"
   ],
   "metadata": {
    "collapsed": false
   },
   "id": "581cf13ca4b0dcfe"
  },
  {
   "cell_type": "code",
   "execution_count": 142,
   "outputs": [],
   "source": [
    "import random\n",
    "from datetime import datetime\n",
    "from pprint import pprint\n",
    "\n",
    "class MandatoryProblem:\n",
    "    TEXT: str\n",
    "    TARGET: str\n",
    "    result: dict[str: dict[str: any]]  # 1. key: algorithm, 2. key: property\n",
    "    \n",
    "    def main(self):\n",
    "        # execution of each algorithm\n",
    "        self.brute_force_search()\n",
    "        self.kmp_search()\n",
    "        self.boyer_moore_search()\n",
    "    \n",
    "        # comparison of the algorithms\n",
    "        self.compare()"
   ],
   "metadata": {
    "collapsed": false,
    "ExecuteTime": {
     "end_time": "2024-05-31T07:53:24.003226800Z",
     "start_time": "2024-05-31T07:53:23.937961500Z"
    }
   },
   "id": "beee0ef85b2ee671"
  },
  {
   "cell_type": "markdown",
   "source": [
    "- Creation of the class and processing order of the problem."
   ],
   "metadata": {
    "collapsed": false
   },
   "id": "2536a6f8ff00e244"
  },
  {
   "cell_type": "markdown",
   "source": [
    "### Structural overhead"
   ],
   "metadata": {
    "collapsed": false
   },
   "id": "2598f4d8a4cbf43e"
  },
  {
   "cell_type": "code",
   "execution_count": 143,
   "outputs": [],
   "source": [
    "class MandatoryProblem(MandatoryProblem):\n",
    "    def __init__(self, target_length: int = 20):\n",
    "        self.result = {\n",
    "            \"brute force\" : {\n",
    "                \"time\" : None,\n",
    "                \"comparisons\" : None,\n",
    "                \"and so on\": None\n",
    "            },\n",
    "            \"kmp\" : {\n",
    "                \"time\" : None,\n",
    "                \"comparisons\" : None,\n",
    "                \"and so on\": None\n",
    "            },\n",
    "            \"boyer-moore\" : {\n",
    "                \"time\" : None,\n",
    "                \"comparisons\" : None,\n",
    "                \"and so on\": None\n",
    "            }\n",
    "        }\n",
    "    \n",
    "        # overhead for dynamic computation\n",
    "        self.read_file()\n",
    "        self.generate_target(target_length)"
   ],
   "metadata": {
    "collapsed": false,
    "ExecuteTime": {
     "end_time": "2024-05-31T07:53:24.004227400Z",
     "start_time": "2024-05-31T07:53:23.944492Z"
    }
   },
   "id": "418f10ad422529b0"
  },
  {
   "cell_type": "markdown",
   "source": [
    "- Creation of the constructor and defining the structure of the comparison attributes."
   ],
   "metadata": {
    "collapsed": false
   },
   "id": "23cb951b1a98f808"
  },
  {
   "cell_type": "code",
   "execution_count": 144,
   "outputs": [],
   "source": [
    "class MandatoryProblem(MandatoryProblem):\n",
    "    def read_file(self) -> None:\n",
    "        with open(\"text.txt\", 'r') as text:\n",
    "            self.TEXT = text.readline()"
   ],
   "metadata": {
    "collapsed": false,
    "ExecuteTime": {
     "end_time": "2024-05-31T07:53:24.004227400Z",
     "start_time": "2024-05-31T07:53:23.947502400Z"
    }
   },
   "id": "3a33d84a27fa5404"
  },
  {
   "cell_type": "markdown",
   "source": [
    "- Reading the file and saving the results in the constant TEXT."
   ],
   "metadata": {
    "collapsed": false
   },
   "id": "a5bea29b60d987d"
  },
  {
   "cell_type": "code",
   "execution_count": 145,
   "outputs": [],
   "source": [
    "class MandatoryProblem(MandatoryProblem):\n",
    "    def generate_target(self, length: int) -> None:\n",
    "        random_index = random.randrange(0, len(self.TEXT)-length-1)\n",
    "        self.TARGET = self.TEXT[random_index:random_index+length+1]"
   ],
   "metadata": {
    "collapsed": false,
    "ExecuteTime": {
     "end_time": "2024-05-31T07:53:24.005227300Z",
     "start_time": "2024-05-31T07:53:23.952349Z"
    }
   },
   "id": "df905e72ad1a6f4a"
  },
  {
   "cell_type": "markdown",
   "source": [
    "- Create the target string with variable length and save it in TARGET."
   ],
   "metadata": {
    "collapsed": false
   },
   "id": "953a99ba17805286"
  },
  {
   "cell_type": "markdown",
   "source": [
    "## Execution and description of the experiment"
   ],
   "metadata": {
    "collapsed": false
   },
   "id": "d9432eb194a5a177"
  },
  {
   "cell_type": "markdown",
   "source": [
    "### Brute Force"
   ],
   "metadata": {
    "collapsed": false
   },
   "id": "2115a0222cc50f67"
  },
  {
   "cell_type": "code",
   "execution_count": 146,
   "outputs": [],
   "source": [
    "class MandatoryProblem(MandatoryProblem):\n",
    "    def brute_force_search(self):\n",
    "        start_time = datetime.now().timestamp()\n",
    "        comparisons = 0\n",
    "        text_length = len(self.TEXT)\n",
    "        target_length = len(self.TARGET)\n",
    "        \n",
    "        for index in range(text_length - target_length):\n",
    "            \n",
    "            target_index = 0\n",
    "            comparisons += 1\n",
    "            while target_index < target_length and self.TEXT[index + target_index] == self.TARGET[target_index]:\n",
    "                target_index += 1\n",
    "                comparisons += 1\n",
    "                \n",
    "            if target_index == target_length:\n",
    "                self.result[\"brute force\"][\"time\"] = datetime.now().timestamp() - start_time\n",
    "                self.result[\"brute force\"][\"comparisons\"] = comparisons\n",
    "                return index\n",
    "        \n",
    "        return -1"
   ],
   "metadata": {
    "collapsed": false,
    "ExecuteTime": {
     "end_time": "2024-05-31T07:53:24.006227400Z",
     "start_time": "2024-05-31T07:53:23.959064200Z"
    }
   },
   "id": "2ab11b3cc90701cc"
  },
  {
   "cell_type": "markdown",
   "source": [
    "### KPM"
   ],
   "metadata": {
    "collapsed": false
   },
   "id": "1e6cb1123b2fade1"
  },
  {
   "cell_type": "code",
   "execution_count": 147,
   "outputs": [],
   "source": [
    "class MandatoryProblem(MandatoryProblem):\n",
    "    def kmp_search(self):\n",
    "        pass"
   ],
   "metadata": {
    "collapsed": false,
    "ExecuteTime": {
     "end_time": "2024-05-31T07:53:24.040735700Z",
     "start_time": "2024-05-31T07:53:23.962826200Z"
    }
   },
   "id": "ffb005617374e75d"
  },
  {
   "cell_type": "markdown",
   "source": [
    "### Boyer-Moore"
   ],
   "metadata": {
    "collapsed": false
   },
   "id": "b67ff9a7848d01ac"
  },
  {
   "cell_type": "code",
   "execution_count": 148,
   "outputs": [],
   "source": [
    "class MandatoryProblem(MandatoryProblem):\n",
    "    def boyer_moore_search(self):\n",
    "        pass # implementation on page 588"
   ],
   "metadata": {
    "collapsed": false,
    "ExecuteTime": {
     "end_time": "2024-05-31T07:53:24.040735700Z",
     "start_time": "2024-05-31T07:53:23.965895600Z"
    }
   },
   "id": "24102950c8494de1"
  },
  {
   "cell_type": "markdown",
   "source": [
    "## Transcript of the experimental results"
   ],
   "metadata": {
    "collapsed": false
   },
   "id": "f1bc34d9da394f92"
  },
  {
   "cell_type": "markdown",
   "source": [
    "- TODO"
   ],
   "metadata": {
    "collapsed": false
   },
   "id": "a40fa8e1e379832a"
  },
  {
   "cell_type": "markdown",
   "source": [
    "## Evaluation and presentation of the experiment"
   ],
   "metadata": {
    "collapsed": false
   },
   "id": "ddd90225ecebd9c1"
  },
  {
   "cell_type": "code",
   "execution_count": 149,
   "outputs": [],
   "source": [
    "class MandatoryProblem(MandatoryProblem):\n",
    "    def compare(self):\n",
    "        pprint(self.result)"
   ],
   "metadata": {
    "collapsed": false,
    "ExecuteTime": {
     "end_time": "2024-05-31T07:53:24.041736400Z",
     "start_time": "2024-05-31T07:53:23.973204300Z"
    }
   },
   "id": "6d42224103eba8d"
  },
  {
   "cell_type": "markdown",
   "source": [
    "- TODO"
   ],
   "metadata": {
    "collapsed": false
   },
   "id": "747aaca9b648d5e9"
  },
  {
   "cell_type": "markdown",
   "source": [
    "## Discussion and conclusion of the results"
   ],
   "metadata": {
    "collapsed": false
   },
   "id": "2c90af416e843cfa"
  },
  {
   "cell_type": "markdown",
   "source": [
    "- TODO"
   ],
   "metadata": {
    "collapsed": false
   },
   "id": "4fe9bc9c8bdc55a1"
  },
  {
   "cell_type": "markdown",
   "source": [
    "## Sources and remarks"
   ],
   "metadata": {
    "collapsed": false
   },
   "id": "1bb5953a84d13157"
  },
  {
   "cell_type": "markdown",
   "source": [
    "### Text sources"
   ],
   "metadata": {
    "collapsed": false
   },
   "id": "d1dd94beeacb577d"
  },
  {
   "cell_type": "markdown",
   "source": [
    "[1] https://libraryofbabel.info <br>\n",
    "[2] ..."
   ],
   "metadata": {
    "collapsed": false
   },
   "id": "e05ce7b841101783"
  },
  {
   "cell_type": "markdown",
   "source": [
    "### Image sources"
   ],
   "metadata": {
    "collapsed": false
   },
   "id": "d49239271584170d"
  },
  {
   "cell_type": "markdown",
   "source": [
    "[3] ..."
   ],
   "metadata": {
    "collapsed": false
   },
   "id": "80cc5549d4f60e10"
  },
  {
   "cell_type": "markdown",
   "source": [
    "### Intellectual sources"
   ],
   "metadata": {
    "collapsed": false
   },
   "id": "12a04a5f687c4df9"
  },
  {
   "cell_type": "markdown",
   "source": [
    "[4] ..."
   ],
   "metadata": {
    "collapsed": false
   },
   "id": "70eca6879df36e03"
  },
  {
   "cell_type": "markdown",
   "source": [
    "### Additional code"
   ],
   "metadata": {
    "collapsed": false
   },
   "id": "387838f3c91e295"
  },
  {
   "cell_type": "markdown",
   "source": [
    "## Execute the mandatory problem"
   ],
   "metadata": {
    "collapsed": false
   },
   "id": "a71b628fed4627ef"
  },
  {
   "cell_type": "code",
   "execution_count": 150,
   "outputs": [
    {
     "name": "stdout",
     "output_type": "stream",
     "text": [
      "{'boyer-moore': {'and so on': None, 'comparisons': None, 'time': None},\n",
      " 'brute force': {'and so on': None,\n",
      "                 'comparisons': 2128743,\n",
      "                 'time': 0.19611406326293945},\n",
      " 'kmp': {'and so on': None, 'comparisons': None, 'time': None}}\n"
     ]
    }
   ],
   "source": [
    "if __name__ == \"__main__\":\n",
    "    MandatoryProblem().main()"
   ],
   "metadata": {
    "collapsed": false,
    "ExecuteTime": {
     "end_time": "2024-05-31T07:53:24.217623400Z",
     "start_time": "2024-05-31T07:53:23.996716700Z"
    }
   },
   "id": "6d108b4eacdef407"
  },
  {
   "cell_type": "markdown",
   "source": [
    "#### Create the text file"
   ],
   "metadata": {
    "collapsed": false
   },
   "id": "c8c0e4aa53cff433"
  },
  {
   "cell_type": "code",
   "execution_count": 151,
   "outputs": [],
   "source": [
    "import os\n",
    "\n",
    "# create target-file\n",
    "open(\"text.txt\", 'w+')\n",
    "\n",
    "# iterate through all files in source directory (all from text source [1])\n",
    "for file_name in os.listdir(\"Original Texts\"):\n",
    "    if file_name.endswith(\".txt\"):\n",
    "\n",
    "        # read and save content of a sourcefile\n",
    "        with open(f\"Original Texts/{file_name}\", 'r+') as file:\n",
    "            lines = file.readlines()\n",
    "\n",
    "        # save lines of content in target-file without separators\n",
    "        with open(\"text.txt\", 'a') as file:\n",
    "            for line in lines:\n",
    "                if \"Book Location\" not in line:\n",
    "                    file.write(line.removesuffix(\"\\n\"))"
   ],
   "metadata": {
    "collapsed": false,
    "ExecuteTime": {
     "end_time": "2024-05-31T07:53:24.299717300Z",
     "start_time": "2024-05-31T07:53:24.215623500Z"
    }
   },
   "id": "436286ba99d4181a"
  }
 ],
 "metadata": {
  "kernelspec": {
   "display_name": "Python 3 (ipykernel)",
   "language": "python",
   "name": "python3"
  },
  "language_info": {
   "codemirror_mode": {
    "name": "ipython",
    "version": 3
   },
   "file_extension": ".py",
   "mimetype": "text/x-python",
   "name": "python",
   "nbconvert_exporter": "python",
   "pygments_lexer": "ipython3",
   "version": "3.12.0"
  }
 },
 "nbformat": 4,
 "nbformat_minor": 5
}
