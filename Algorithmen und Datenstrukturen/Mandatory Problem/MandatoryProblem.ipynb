{
 "cells": [
  {
   "cell_type": "markdown",
   "source": [
    "# Mandatory Problem: Investigation of three Pattern Matching Algorithms"
   ],
   "metadata": {
    "collapsed": false
   },
   "id": "3f54628fc63c59c4"
  },
  {
   "cell_type": "markdown",
   "source": [
    "Professor: Prof. Dr. Patrick Glauner"
   ],
   "metadata": {
    "collapsed": false
   },
   "id": "5fa3634f82028823"
  },
  {
   "cell_type": "markdown",
   "source": [
    "Participants:<br>\n",
    "   - 22211158 -> Noah Tjorven Burdorf\n",
    "   - xxxxxxxx -> Korbinian Zormeier\n",
    "   - xxxxxxxx -> Tobias Bosl\n",
    "   - xxxxxxxx -> Bastian Höschl\n",
    "   - xxxxxxxx -> Mathias Kirschner"
   ],
   "metadata": {
    "collapsed": false
   },
   "id": "53454117b3899cf9"
  },
  {
   "cell_type": "markdown",
   "source": [
    "## Introduction and Problem Description"
   ],
   "metadata": {
    "collapsed": false
   },
   "id": "de8634cddf96e15f"
  },
  {
   "cell_type": "markdown",
   "source": [
    "- TODO"
   ],
   "metadata": {
    "collapsed": false
   },
   "id": "155f087b3ecc5855"
  },
  {
   "cell_type": "markdown",
   "source": [
    "## Theory and description of the Algorithms"
   ],
   "metadata": {
    "collapsed": false
   },
   "id": "64684944f42e7e2d"
  },
  {
   "cell_type": "markdown",
   "source": [
    "- TODO"
   ],
   "metadata": {
    "collapsed": false
   },
   "id": "f63d7da0e34ca8a1"
  },
  {
   "cell_type": "markdown",
   "source": [
    "## Structure for the mandatory problem"
   ],
   "metadata": {
    "collapsed": false
   },
   "id": "8480442ccf0d560a"
  },
  {
   "cell_type": "markdown",
   "source": [
    "### Class structure"
   ],
   "metadata": {
    "collapsed": false
   },
   "id": "581cf13ca4b0dcfe"
  },
  {
   "cell_type": "code",
   "execution_count": null,
   "outputs": [],
   "source": [
    "import random\n",
    "class MandatoryProblem:\n",
    "    TEXT: str\n",
    "    TARGET: str\n",
    "    result: dict[str: dict[str: any]]  # 1. key: algorithm, 2. key: property\n",
    "    \n",
    "    def main(self):\n",
    "        # overhead for dynamic computation\n",
    "        self.read_file()\n",
    "        self.generate_target(20)\n",
    "    \n",
    "        # execution of each algorithm\n",
    "        self.brute_force_search()\n",
    "        self.kmp_search()\n",
    "        self.boyer_moore_search()\n",
    "    \n",
    "        # comparison of the algorithms\n",
    "        self.compare()"
   ],
   "metadata": {
    "collapsed": false
   },
   "id": "beee0ef85b2ee671"
  },
  {
   "cell_type": "markdown",
   "source": [
    "- Creation of the class and processing order of the problem."
   ],
   "metadata": {
    "collapsed": false
   },
   "id": "2536a6f8ff00e244"
  },
  {
   "cell_type": "markdown",
   "source": [
    "### Structural overhead"
   ],
   "metadata": {
    "collapsed": false
   },
   "id": "2598f4d8a4cbf43e"
  },
  {
   "cell_type": "code",
   "execution_count": null,
   "outputs": [],
   "source": [
    "    def __init__(self):\n",
    "        result = {\n",
    "            \"brute force\" : {\n",
    "                \"time\" : None,\n",
    "                \"comparisons\" : None,\n",
    "                \"and so on\": None\n",
    "            },\n",
    "            \"kmp\" : {\n",
    "                \"time\" : None,\n",
    "                \"comparisons\" : None,\n",
    "                \"and so on\": None\n",
    "            },\n",
    "            \"boyer-moore\" : {\n",
    "                \"time\" : None,\n",
    "                \"comparisons\" : None,\n",
    "                \"and so on\": None\n",
    "            }\n",
    "        }"
   ],
   "metadata": {
    "collapsed": false
   },
   "id": "12cb53645b97c367"
  },
  {
   "cell_type": "markdown",
   "source": [
    "- Creation of the constructor and defining the structure of the comparison attributes."
   ],
   "metadata": {
    "collapsed": false
   },
   "id": "23cb951b1a98f808"
  },
  {
   "cell_type": "code",
   "execution_count": 5,
   "outputs": [],
   "source": [
    "    def read_file(self) -> None:\n",
    "        with open(\"text.txt\", 'r') as text:\n",
    "            self.TEXT = text.readline()"
   ],
   "metadata": {
    "collapsed": false,
    "ExecuteTime": {
     "start_time": "2024-05-30T22:52:51.186566300Z"
    }
   },
   "id": "3a33d84a27fa5404"
  },
  {
   "cell_type": "markdown",
   "source": [
    "- Reading the file and saving the results in the constant TEXT."
   ],
   "metadata": {
    "collapsed": false
   },
   "id": "a5bea29b60d987d"
  },
  {
   "cell_type": "code",
   "execution_count": 6,
   "outputs": [],
   "source": [
    "    def generate_target(self, length: int) -> None:\n",
    "        random_index = random.randrange(0, len(self.TEXT)-length-1)\n",
    "        self.TARGET = self.TEXT[random_index:random_index+length+1]"
   ],
   "metadata": {
    "collapsed": false,
    "ExecuteTime": {
     "end_time": "2024-05-30T22:52:52.150461Z",
     "start_time": "2024-05-30T22:52:52.142428700Z"
    }
   },
   "id": "df905e72ad1a6f4a"
  },
  {
   "cell_type": "markdown",
   "source": [
    "- Create the target string with variable length and save it in TARGET."
   ],
   "metadata": {
    "collapsed": false
   },
   "id": "953a99ba17805286"
  },
  {
   "cell_type": "markdown",
   "source": [
    "## Execution and description of the experiment"
   ],
   "metadata": {
    "collapsed": false
   },
   "id": "d9432eb194a5a177"
  },
  {
   "cell_type": "markdown",
   "source": [
    "### Brute Force"
   ],
   "metadata": {
    "collapsed": false
   },
   "id": "2115a0222cc50f67"
  },
  {
   "cell_type": "code",
   "execution_count": 7,
   "outputs": [],
   "source": [
    "    def brute_force_search(self):\n",
    "        pass"
   ],
   "metadata": {
    "collapsed": false,
    "ExecuteTime": {
     "end_time": "2024-05-30T22:52:52.714284600Z",
     "start_time": "2024-05-30T22:52:52.706591300Z"
    }
   },
   "id": "e1a60dfab0096a12"
  },
  {
   "cell_type": "markdown",
   "source": [
    "### KPM"
   ],
   "metadata": {
    "collapsed": false
   },
   "id": "1e6cb1123b2fade1"
  },
  {
   "cell_type": "code",
   "execution_count": 8,
   "outputs": [],
   "source": [
    "    def kmp_search(self):\n",
    "        pass"
   ],
   "metadata": {
    "collapsed": false,
    "ExecuteTime": {
     "end_time": "2024-05-30T22:52:53.329154200Z",
     "start_time": "2024-05-30T22:52:53.322795900Z"
    }
   },
   "id": "ffb005617374e75d"
  },
  {
   "cell_type": "markdown",
   "source": [
    "### Boyer-Moore"
   ],
   "metadata": {
    "collapsed": false
   },
   "id": "b67ff9a7848d01ac"
  },
  {
   "cell_type": "code",
   "execution_count": null,
   "outputs": [],
   "source": [
    "    def boyer_moore_search(self):\n",
    "        pass"
   ],
   "metadata": {
    "collapsed": false
   },
   "id": "24102950c8494de1"
  },
  {
   "cell_type": "markdown",
   "source": [
    "## Transcript of the experimental results"
   ],
   "metadata": {
    "collapsed": false
   },
   "id": "f1bc34d9da394f92"
  },
  {
   "cell_type": "raw",
   "source": [
    "- TODO"
   ],
   "metadata": {
    "collapsed": false
   },
   "id": "e125c934ac294738"
  },
  {
   "cell_type": "markdown",
   "source": [
    "## Evaluation and presentation of the experiment"
   ],
   "metadata": {
    "collapsed": false
   },
   "id": "ddd90225ecebd9c1"
  },
  {
   "cell_type": "code",
   "execution_count": null,
   "outputs": [],
   "source": [
    "    def compare(self):\n",
    "        pass"
   ],
   "metadata": {
    "collapsed": false
   },
   "id": "6d42224103eba8d"
  },
  {
   "cell_type": "markdown",
   "source": [
    "- TODO"
   ],
   "metadata": {
    "collapsed": false
   },
   "id": "747aaca9b648d5e9"
  },
  {
   "cell_type": "markdown",
   "source": [
    "## Discussion and conclusion of the results"
   ],
   "metadata": {
    "collapsed": false
   },
   "id": "2c90af416e843cfa"
  },
  {
   "cell_type": "markdown",
   "source": [
    "- TODO"
   ],
   "metadata": {
    "collapsed": false
   },
   "id": "4fe9bc9c8bdc55a1"
  },
  {
   "cell_type": "markdown",
   "source": [
    "## Sources and remarks"
   ],
   "metadata": {
    "collapsed": false
   },
   "id": "1bb5953a84d13157"
  },
  {
   "cell_type": "markdown",
   "source": [
    "### Text sources"
   ],
   "metadata": {
    "collapsed": false
   },
   "id": "d1dd94beeacb577d"
  },
  {
   "cell_type": "markdown",
   "source": [
    "[1] https://libraryofbabel.info <br>\n",
    "[2] ..."
   ],
   "metadata": {
    "collapsed": false
   },
   "id": "e05ce7b841101783"
  },
  {
   "cell_type": "markdown",
   "source": [
    "### Image sources"
   ],
   "metadata": {
    "collapsed": false
   },
   "id": "d49239271584170d"
  },
  {
   "cell_type": "markdown",
   "source": [
    "[3] ..."
   ],
   "metadata": {
    "collapsed": false
   },
   "id": "80cc5549d4f60e10"
  },
  {
   "cell_type": "markdown",
   "source": [
    "### Intellectual sources"
   ],
   "metadata": {
    "collapsed": false
   },
   "id": "12a04a5f687c4df9"
  },
  {
   "cell_type": "markdown",
   "source": [
    "[4] ..."
   ],
   "metadata": {
    "collapsed": false
   },
   "id": "70eca6879df36e03"
  },
  {
   "cell_type": "markdown",
   "source": [
    "### Additional code"
   ],
   "metadata": {
    "collapsed": false
   },
   "id": "387838f3c91e295"
  },
  {
   "cell_type": "markdown",
   "source": [
    "#### Create the text file"
   ],
   "metadata": {
    "collapsed": false
   },
   "id": "c8c0e4aa53cff433"
  },
  {
   "cell_type": "code",
   "execution_count": null,
   "outputs": [],
   "source": [
    "import os\n",
    "\n",
    "# create target-file\n",
    "open(\"text.txt\", 'w+')\n",
    "\n",
    "# iterate through all files in source directory (all from text source [1])\n",
    "for file_name in os.listdir(\"Original Texts\"):\n",
    "    if file_name.endswith(\".txt\"):\n",
    "\n",
    "        # read and save content of a sourcefile\n",
    "        with open(f\"Original Texts/{file_name}\", 'r+') as file:\n",
    "            lines = file.readlines()\n",
    "\n",
    "        # save lines of content in target-file without separators\n",
    "        with open(\"text.txt\", 'a') as file:\n",
    "            for line in lines:\n",
    "                if \"Book Location\" not in line:\n",
    "                    file.write(line.removesuffix(\"\\n\"))"
   ],
   "metadata": {
    "collapsed": false
   },
   "id": "436286ba99d4181a"
  }
 ],
 "metadata": {
  "kernelspec": {
   "display_name": "Python 3 (ipykernel)",
   "language": "python",
   "name": "python3"
  },
  "language_info": {
   "codemirror_mode": {
    "name": "ipython",
    "version": 3
   },
   "file_extension": ".py",
   "mimetype": "text/x-python",
   "name": "python",
   "nbconvert_exporter": "python",
   "pygments_lexer": "ipython3",
   "version": "3.12.0"
  }
 },
 "nbformat": 4,
 "nbformat_minor": 5
}
