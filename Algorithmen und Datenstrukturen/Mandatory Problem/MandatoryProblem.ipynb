{
 "cells": [
  {
   "cell_type": "markdown",
   "id": "3f54628fc63c59c4",
   "metadata": {
    "collapsed": false,
    "jupyter": {
     "outputs_hidden": false
    }
   },
   "source": [
    "# Mandatory Problem: Investigation of three Pattern Matching Algorithms"
   ]
  },
  {
   "cell_type": "markdown",
   "id": "5fa3634f82028823",
   "metadata": {
    "collapsed": false,
    "jupyter": {
     "outputs_hidden": false
    }
   },
   "source": [
    "Professor: Prof. Dr. Patrick Glauner"
   ]
  },
  {
   "cell_type": "markdown",
   "id": "53454117b3899cf9",
   "metadata": {
    "collapsed": false,
    "jupyter": {
     "outputs_hidden": false
    }
   },
   "source": [
    "Participants:<br>\n",
    "   - 22211158 -> Noah Tjorven Burdorf\n",
    "   - xxxxxxxx -> Korbinian Zormeier\n",
    "   - xxxxxxxx -> Tobias Bosl\n",
    "   - xxxxxxxx -> Bastian Höschl\n",
    "   - xxxxxxxx -> Mathias Kirschner"
   ]
  },
  {
   "cell_type": "markdown",
   "id": "de8634cddf96e15f",
   "metadata": {
    "collapsed": false,
    "jupyter": {
     "outputs_hidden": false
    }
   },
   "source": [
    "## Introduction and Problem Description"
   ]
  },
  {
   "cell_type": "markdown",
   "id": "155f087b3ecc5855",
   "metadata": {
    "collapsed": false,
    "jupyter": {
     "outputs_hidden": false
    }
   },
   "source": [
    "- TODO\n",
    "    - what is the problem\n",
    "    - Example\n",
    "    - What is the Text, where is it from"
   ]
  },
  {
   "cell_type": "markdown",
   "id": "64684944f42e7e2d",
   "metadata": {
    "collapsed": false,
    "jupyter": {
     "outputs_hidden": false
    }
   },
   "source": [
    "## Theory and description of the Algorithms"
   ]
  },
  {
   "cell_type": "markdown",
   "id": "39f742e7fd332d11",
   "metadata": {},
   "source": [
    "Pattern matching algorithms compare data with a refrence pattern. In our implementation we focus just on strings but in reality the data can be any datatype or datapattern. If a or the reference pattern was found in the source document, the algorithm would return the starting index of the pattern in the data.\n",
    "<br><br>\n",
    "All three algorithms work and deliver the same results, but with different complexeties, and ressource consumption. In our Experiemnt we investigate a few parameters and evaluate the efficency of the algorithms.\n",
    "<br>-T [4]"
   ]
  },
  {
   "cell_type": "markdown",
   "id": "5757feff71b4f6f",
   "metadata": {},
   "source": [
    "### Brute Force Algorithm"
   ]
  },
  {
   "cell_type": "markdown",
   "id": "374af8cb6639a55c",
   "metadata": {},
   "source": [
    "The brute force algorithm although known as the naive algorithm is the simplest pattern matching algorithm and is explained almost instantaneous.\n",
    "<br><br>\n",
    "In general this algorithm loops over each and ever character in the pattern. If the character eg. at position k matches the reference patterns first character, it advances with comparing the following characters of the source and pattern in a nested loop. In case of completing the pattern, it returns the start index (in this case k) of the pattern in the text. Else wise the inner loop is discarded, and the outer loop in advancing with the next position (here k+1). If the end of the outer loop is reached, which means there the pattern was not found in the text, the value '-1' is returned.\n",
    "<br><br>\n",
    "Therefore the algorithm has a big-o complexity of O(m+n) where m represents the source length and n the length of the pattern it is trying to match.\n",
    "<br>-T [4]"
   ]
  },
  {
   "cell_type": "markdown",
   "id": "f63d7da0e34ca8a1",
   "metadata": {
    "collapsed": false,
    "jupyter": {
     "outputs_hidden": false
    }
   },
   "source": [
    "- TODO"
   ]
  },
  {
   "cell_type": "markdown",
   "id": "8480442ccf0d560a",
   "metadata": {
    "collapsed": false,
    "jupyter": {
     "outputs_hidden": false
    }
   },
   "source": [
    "## Structure for the mandatory problem"
   ]
  },
  {
   "cell_type": "markdown",
   "id": "581cf13ca4b0dcfe",
   "metadata": {
    "collapsed": false,
    "jupyter": {
     "outputs_hidden": false
    }
   },
   "source": [
    "### Class structure"
   ]
  },
  {
   "cell_type": "code",
   "execution_count": 1,
   "id": "beee0ef85b2ee671",
   "metadata": {
    "ExecuteTime": {
     "end_time": "2024-06-01T16:36:21.919348Z",
     "start_time": "2024-06-01T16:36:21.911452Z"
    },
    "collapsed": false,
    "jupyter": {
     "outputs_hidden": false
    }
   },
   "outputs": [],
   "source": [
    "import random\n",
    "from datetime import datetime\n",
    "from pprint import pprint\n",
    "\n",
    "class MandatoryProblem:\n",
    "    TEXT: str\n",
    "    TARGET: str\n",
    "    result: dict[str: dict[str: any]]  # 1. key: algorithm, 2. key: property\n",
    "    \n",
    "    def main(self):\n",
    "        # execution of each algorithm\n",
    "        self.brute_force_search()\n",
    "        self.kmp_search()\n",
    "        self.boyer_moore_search()\n",
    "    \n",
    "        # comparison of the algorithms\n",
    "        self.compare()"
   ]
  },
  {
   "cell_type": "markdown",
   "id": "2536a6f8ff00e244",
   "metadata": {
    "collapsed": false,
    "jupyter": {
     "outputs_hidden": false
    }
   },
   "source": [
    "Creation of the class and processing order of the problem.\n",
    "<br>-T"
   ]
  },
  {
   "cell_type": "markdown",
   "id": "2598f4d8a4cbf43e",
   "metadata": {
    "collapsed": false,
    "jupyter": {
     "outputs_hidden": false
    }
   },
   "source": [
    "### Structural overhead"
   ]
  },
  {
   "cell_type": "code",
   "execution_count": 2,
   "id": "418f10ad422529b0",
   "metadata": {
    "ExecuteTime": {
     "end_time": "2024-06-01T16:36:21.998505Z",
     "start_time": "2024-06-01T16:36:21.991971Z"
    },
    "collapsed": false,
    "jupyter": {
     "outputs_hidden": false
    }
   },
   "outputs": [],
   "source": [
    "class MandatoryProblem(MandatoryProblem):\n",
    "    def __init__(self, target_length: int = 20):\n",
    "        structure = {\n",
    "                \"time\" : None,\n",
    "                \"comparisons\" : None\n",
    "            }\n",
    "        self.result = {\n",
    "            \"brute force\": structure.copy(),\n",
    "            \"kmp\": structure.copy(),\n",
    "            \"boyer-moore\": structure.copy()\n",
    "        }\n",
    "    \n",
    "        # overhead for dynamic computation\n",
    "        self.read_file()\n",
    "        self.generate_target(target_length)"
   ]
  },
  {
   "cell_type": "markdown",
   "id": "23cb951b1a98f808",
   "metadata": {
    "collapsed": false,
    "jupyter": {
     "outputs_hidden": false
    }
   },
   "source": [
    "Creation of the constructor and defining the structure of the comparison attributes."
   ]
  },
  {
   "cell_type": "code",
   "execution_count": 3,
   "id": "3a33d84a27fa5404",
   "metadata": {
    "ExecuteTime": {
     "end_time": "2024-06-01T16:36:22.019736Z",
     "start_time": "2024-06-01T16:36:22.012298Z"
    },
    "collapsed": false,
    "jupyter": {
     "outputs_hidden": false
    }
   },
   "outputs": [],
   "source": [
    "class MandatoryProblem(MandatoryProblem):\n",
    "    def read_file(self) -> None:\n",
    "        with open(\"text.txt\", 'r') as text:\n",
    "            self.TEXT = text.readline()"
   ]
  },
  {
   "cell_type": "markdown",
   "id": "a5bea29b60d987d",
   "metadata": {
    "collapsed": false,
    "jupyter": {
     "outputs_hidden": false
    }
   },
   "source": [
    "Reading the file and saving the results in the constant TEXT."
   ]
  },
  {
   "cell_type": "code",
   "execution_count": 4,
   "id": "df905e72ad1a6f4a",
   "metadata": {
    "ExecuteTime": {
     "end_time": "2024-06-01T16:36:22.086533Z",
     "start_time": "2024-06-01T16:36:22.078564Z"
    },
    "collapsed": false,
    "jupyter": {
     "outputs_hidden": false
    }
   },
   "outputs": [],
   "source": [
    "class MandatoryProblem(MandatoryProblem):\n",
    "    def generate_target(self, length: int) -> None:\n",
    "        random_index = random.randrange(0, len(self.TEXT)-length-1)\n",
    "        self.TARGET = self.TEXT[random_index:random_index+length+1]"
   ]
  },
  {
   "cell_type": "markdown",
   "id": "953a99ba17805286",
   "metadata": {
    "collapsed": false,
    "jupyter": {
     "outputs_hidden": false
    }
   },
   "source": [
    "Create the target string with variable length and save it in TARGET.\n",
    "<br>-T"
   ]
  },
  {
   "cell_type": "markdown",
   "id": "d9432eb194a5a177",
   "metadata": {
    "collapsed": false,
    "jupyter": {
     "outputs_hidden": false
    }
   },
   "source": [
    "## Execution and description of the experiment"
   ]
  },
  {
   "cell_type": "markdown",
   "id": "2115a0222cc50f67",
   "metadata": {
    "collapsed": false,
    "jupyter": {
     "outputs_hidden": false
    }
   },
   "source": [
    "### Brute Force"
   ]
  },
  {
   "cell_type": "code",
   "execution_count": 5,
   "id": "2ab11b3cc90701cc",
   "metadata": {
    "ExecuteTime": {
     "end_time": "2024-06-01T16:36:22.110253Z",
     "start_time": "2024-06-01T16:36:22.103113Z"
    },
    "collapsed": false,
    "jupyter": {
     "outputs_hidden": false
    }
   },
   "outputs": [],
   "source": [
    "class MandatoryProblem(MandatoryProblem):\n",
    "    def brute_force_search(self):\n",
    "        start_time = datetime.now().timestamp()\n",
    "        comparisons = 0\n",
    "        text_length = len(self.TEXT)\n",
    "        target_length = len(self.TARGET)\n",
    "        \n",
    "        # outer loop over all character-indices in the text.\n",
    "        for text_index in range(text_length - target_length):\n",
    "            \n",
    "            target_index = 0\n",
    "            comparisons += 1\n",
    "            # inner loop over all character-indices in the TARGET pattern.\n",
    "            while target_index < target_length and self.TEXT[text_index + target_index] == self.TARGET[target_index]:\n",
    "                target_index += 1\n",
    "                comparisons += 1\n",
    "                \n",
    "            if target_index == target_length:\n",
    "                # storing of the computed values in the \n",
    "                self.result[\"brute force\"][\"time\"] = datetime.now().timestamp() - start_time\n",
    "                self.result[\"brute force\"][\"comparisons\"] = comparisons\n",
    "                return text_index\n",
    "        \n",
    "        return -1"
   ]
  },
  {
   "cell_type": "markdown",
   "id": "4648e9948f653907",
   "metadata": {},
   "source": [
    "In addition to the straight forward implementation of the algorithm, we added two variables in order to measure the computation time and the number of made comparisons. This indeed slows down the process as a whole, but firstly it is the expected slowest algorithm and additionally all algorithms have this handicap so the systematic error should not distort the results.\n",
    "<br><br>\n",
    "The collected data are stored directly afterward in the result directory. This extra code is not inserted before the fail case, because in this use case we definitely know that the reference pattern is in the text.\n",
    "<br>-T"
   ]
  },
  {
   "cell_type": "markdown",
   "id": "1e6cb1123b2fade1",
   "metadata": {
    "collapsed": false,
    "jupyter": {
     "outputs_hidden": false
    }
   },
   "source": [
    "### KPM"
   ]
  },
  {
   "cell_type": "code",
   "execution_count": 6,
   "id": "ffb005617374e75d",
   "metadata": {
    "ExecuteTime": {
     "end_time": "2024-06-01T16:36:22.159710Z",
     "start_time": "2024-06-01T16:36:22.155733Z"
    },
    "collapsed": false,
    "jupyter": {
     "outputs_hidden": false
    }
   },
   "outputs": [],
   "source": [
    "class MandatoryProblem(MandatoryProblem):\n",
    "    def kmp_search(self):\n",
    "        pass"
   ]
  },
  {
   "cell_type": "markdown",
   "id": "b67ff9a7848d01ac",
   "metadata": {
    "collapsed": false,
    "jupyter": {
     "outputs_hidden": false
    }
   },
   "source": [
    "### Boyer-Moore"
   ]
  },
  {
   "cell_type": "code",
   "execution_count": 7,
   "id": "24102950c8494de1",
   "metadata": {
    "ExecuteTime": {
     "end_time": "2024-06-01T16:36:22.183654Z",
     "start_time": "2024-06-01T16:36:22.177474Z"
    },
    "collapsed": false,
    "jupyter": {
     "outputs_hidden": false
    }
   },
   "outputs": [],
   "source": [
    "class MandatoryProblem(MandatoryProblem):\n",
    "    def boyer_moore_search(self):\n",
    "        pass # implementation on page 588"
   ]
  },
  {
   "cell_type": "markdown",
   "id": "ddd90225ecebd9c1",
   "metadata": {
    "collapsed": false,
    "jupyter": {
     "outputs_hidden": false
    }
   },
   "source": [
    "## Evaluation and presentation of the experiment"
   ]
  },
  {
   "cell_type": "code",
   "execution_count": 8,
   "id": "6d42224103eba8d",
   "metadata": {
    "ExecuteTime": {
     "end_time": "2024-06-01T16:36:22.538430Z",
     "start_time": "2024-06-01T16:36:22.216255Z"
    },
    "collapsed": false,
    "jupyter": {
     "outputs_hidden": false
    }
   },
   "outputs": [
    {
     "name": "stdout",
     "output_type": "stream",
     "text": [
      "{'boyer-moore': {'comparisons': None, 'time': None},\n",
      " 'brute force': {'comparisons': 6578021, 'time': 1.492495059967041},\n",
      " 'kmp': {'comparisons': None, 'time': None}}\n"
     ]
    }
   ],
   "source": [
    "class MandatoryProblem(MandatoryProblem):\n",
    "    def compare(self):\n",
    "        pprint(self.result)\n",
    "\n",
    "if __name__ == '__main__':\n",
    "    MandatoryProblem(200000).main()"
   ]
  },
  {
   "cell_type": "markdown",
   "id": "765766d5d1173a72",
   "metadata": {},
   "source": [
    "- TODO\n",
    "    - what do we see \n",
    "    - display the data prettily\n",
    "    - what are the differences\n",
    "    - which algorithm is best\n",
    "    - what whatever and everything"
   ]
  },
  {
   "cell_type": "markdown",
   "id": "2c90af416e843cfa",
   "metadata": {
    "collapsed": false,
    "jupyter": {
     "outputs_hidden": false
    }
   },
   "source": [
    "## Discussion and conclusion of the results"
   ]
  },
  {
   "cell_type": "markdown",
   "id": "4fe9bc9c8bdc55a1",
   "metadata": {
    "collapsed": false,
    "jupyter": {
     "outputs_hidden": false
    }
   },
   "source": [
    "- TODO\n",
    "    - did we expect the results\n",
    "    - what was unexpected\n",
    "    - did sth dont went as planned\n",
    "    - did we pfusch irgendwo\n",
    "    - what could be advanced\n",
    "    - what should be changed the next time\n",
    "- TODO\n",
    "    - conclusion\n",
    "    - are we happy with the results\n",
    "    - are we happy with our method"
   ]
  },
  {
   "cell_type": "markdown",
   "id": "1bb5953a84d13157",
   "metadata": {
    "collapsed": false,
    "jupyter": {
     "outputs_hidden": false
    }
   },
   "source": [
    "## Sources and remarks"
   ]
  },
  {
   "cell_type": "markdown",
   "id": "d1dd94beeacb577d",
   "metadata": {
    "collapsed": false,
    "jupyter": {
     "outputs_hidden": false
    }
   },
   "source": [
    "### Text sources"
   ]
  },
  {
   "cell_type": "markdown",
   "id": "e05ce7b841101783",
   "metadata": {
    "collapsed": false,
    "jupyter": {
     "outputs_hidden": false
    }
   },
   "source": [
    "[1] https://libraryofbabel.info <br>\n",
    "[2] ..."
   ]
  },
  {
   "cell_type": "markdown",
   "id": "d49239271584170d",
   "metadata": {
    "collapsed": false,
    "jupyter": {
     "outputs_hidden": false
    }
   },
   "source": [
    "### Image sources"
   ]
  },
  {
   "cell_type": "markdown",
   "id": "80cc5549d4f60e10",
   "metadata": {
    "collapsed": false,
    "jupyter": {
     "outputs_hidden": false
    }
   },
   "source": [
    "[3] ..."
   ]
  },
  {
   "cell_type": "markdown",
   "id": "12a04a5f687c4df9",
   "metadata": {
    "collapsed": false,
    "jupyter": {
     "outputs_hidden": false
    }
   },
   "source": [
    "### Intellectual sources"
   ]
  },
  {
   "cell_type": "markdown",
   "id": "70eca6879df36e03",
   "metadata": {
    "collapsed": false,
    "jupyter": {
     "outputs_hidden": false
    }
   },
   "source": [
    "[4] https://medium.com/@pratik.chaudhari211/pattern-matching-algorithm-681ef3ba97fd"
   ]
  },
  {
   "cell_type": "markdown",
   "id": "387838f3c91e295",
   "metadata": {
    "collapsed": false,
    "jupyter": {
     "outputs_hidden": false
    }
   },
   "source": [
    "### Additional code"
   ]
  },
  {
   "cell_type": "markdown",
   "id": "a71b628fed4627ef",
   "metadata": {
    "collapsed": false,
    "jupyter": {
     "outputs_hidden": false
    }
   },
   "source": [
    "#### Execute the whole mandatory problem script"
   ]
  },
  {
   "cell_type": "code",
   "execution_count": 9,
   "id": "6d108b4eacdef407",
   "metadata": {
    "ExecuteTime": {
     "end_time": "2024-06-01T16:36:23.144798Z",
     "start_time": "2024-06-01T16:36:22.540493Z"
    },
    "collapsed": false,
    "jupyter": {
     "outputs_hidden": false
    }
   },
   "outputs": [
    {
     "name": "stdout",
     "output_type": "stream",
     "text": [
      "{'boyer-moore': {'comparisons': None, 'time': None},\n",
      " 'brute force': {'comparisons': 5379764, 'time': 1.214189052581787},\n",
      " 'kmp': {'comparisons': None, 'time': None}}\n"
     ]
    }
   ],
   "source": [
    "if __name__ == \"__main__\":\n",
    "    MandatoryProblem().main()"
   ]
  },
  {
   "cell_type": "markdown",
   "id": "c8c0e4aa53cff433",
   "metadata": {
    "collapsed": false,
    "jupyter": {
     "outputs_hidden": false
    }
   },
   "source": [
    "#### Create the text file"
   ]
  },
  {
   "cell_type": "code",
   "execution_count": 10,
   "id": "436286ba99d4181a",
   "metadata": {
    "ExecuteTime": {
     "end_time": "2024-06-01T16:36:23.222860Z",
     "start_time": "2024-06-01T16:36:23.147292Z"
    },
    "collapsed": false,
    "jupyter": {
     "outputs_hidden": false
    }
   },
   "outputs": [],
   "source": [
    "import os\n",
    "\n",
    "# create target-file\n",
    "open(\"text.txt\", 'w+')\n",
    "\n",
    "# iterate through all files in source directory (all from text source [1])\n",
    "for file_name in os.listdir(\"Original Texts\"):\n",
    "    if file_name.endswith(\".txt\"):\n",
    "\n",
    "        # read and save content of a sourcefile\n",
    "        with open(f\"Original Texts/{file_name}\", 'r+') as file:\n",
    "            lines = file.readlines()\n",
    "\n",
    "        # save lines of content in target-file without separators\n",
    "        with open(\"text.txt\", 'a') as file:\n",
    "            for line in lines:\n",
    "                if \"Book Location\" not in line:\n",
    "                    file.write(line.removesuffix(\"\\n\"))"
   ]
  }
 ],
 "metadata": {
  "kernelspec": {
   "display_name": "Python 3 (ipykernel)",
   "language": "python",
   "name": "python3"
  },
  "language_info": {
   "codemirror_mode": {
    "name": "ipython",
    "version": 3
   },
   "file_extension": ".py",
   "mimetype": "text/x-python",
   "name": "python",
   "nbconvert_exporter": "python",
   "pygments_lexer": "ipython3",
   "version": "3.10.12"
  }
 },
 "nbformat": 4,
 "nbformat_minor": 5
}
